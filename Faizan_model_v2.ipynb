{
  "nbformat": 4,
  "nbformat_minor": 0,
  "metadata": {
    "colab": {
      "provenance": []
    },
    "kernelspec": {
      "name": "python3",
      "display_name": "Python 3"
    },
    "language_info": {
      "name": "python"
    }
  },
  "cells": [
    {
      "cell_type": "code",
      "execution_count": 3,
      "metadata": {
        "colab": {
          "base_uri": "https://localhost:8080/"
        },
        "id": "XjvVEfqu0I6Z",
        "outputId": "eade72f6-5c77-4d51-d1ae-7172c211f907"
      },
      "outputs": [
        {
          "output_type": "stream",
          "name": "stdout",
          "text": [
            "Accuracy: 0.956140350877193\n",
            "\n",
            "Classification Report:\n",
            "              precision    recall  f1-score   support\n",
            "\n",
            "           0       0.97      0.96      0.96        71\n",
            "           1       0.93      0.95      0.94        43\n",
            "\n",
            "    accuracy                           0.96       114\n",
            "   macro avg       0.95      0.96      0.95       114\n",
            "weighted avg       0.96      0.96      0.96       114\n",
            "\n",
            "\n",
            "Confusion Matrix:\n",
            "[[68  3]\n",
            " [ 2 41]]\n"
          ]
        }
      ],
      "source": [
        "# Step 1: Data Collection (Reading from CSV)\n",
        "import pandas as pd\n",
        "\n",
        "# Load the dataset from CSV\n",
        "file_path = \"/content/wdbc.data\"\n",
        "names = ['id_number', 'diagnosis', 'radius_mean', 'texture_mean', 'perimeter_mean', 'area_mean',\n",
        "         'smoothness_mean', 'compactness_mean', 'concavity_mean', 'concave_points_mean',\n",
        "         'symmetry_mean', 'fractal_dimension_mean', 'radius_se', 'texture_se', 'perimeter_se',\n",
        "         'area_se', 'smoothness_se', 'compactness_se', 'concavity_se', 'concave_points_se',\n",
        "         'symmetry_se', 'fractal_dimension_se', 'radius_worst', 'texture_worst', 'perimeter_worst',\n",
        "         'area_worst', 'smoothness_worst', 'compactness_worst', 'concavity_worst',\n",
        "         'concave_points_worst', 'symmetry_worst', 'fractal_dimension_worst']\n",
        "data = pd.read_csv(file_path, names=names)\n",
        "\n",
        "# Step 2: Data Preprocessing (Same as before)\n",
        "from sklearn.preprocessing import LabelEncoder\n",
        "from sklearn.model_selection import train_test_split\n",
        "from sklearn.preprocessing import StandardScaler\n",
        "\n",
        "label_encoder = LabelEncoder()\n",
        "data['diagnosis'] = label_encoder.fit_transform(data['diagnosis'])\n",
        "\n",
        "X = data.drop(['id_number', 'diagnosis'], axis=1)\n",
        "y = data['diagnosis']\n",
        "\n",
        "X_train, X_test, y_train, y_test = train_test_split(X, y, test_size=0.2, random_state=42)\n",
        "\n",
        "sc = StandardScaler()\n",
        "X_train = sc.fit_transform(X_train)\n",
        "X_test = sc.transform(X_test)\n",
        "\n",
        "# Step 3: Model Selection and Training (Same as before)\n",
        "from sklearn.svm import SVC\n",
        "\n",
        "classifier = SVC(kernel='linear', random_state=42)\n",
        "classifier.fit(X_train, y_train)\n",
        "\n",
        "# Step 4: Model Evaluation (Same as before)\n",
        "from sklearn.metrics import accuracy_score, classification_report, confusion_matrix\n",
        "\n",
        "y_pred = classifier.predict(X_test)\n",
        "\n",
        "accuracy = accuracy_score(y_test, y_pred)\n",
        "print(\"Accuracy:\", accuracy)\n",
        "\n",
        "print(\"\\nClassification Report:\")\n",
        "print(classification_report(y_test, y_pred))\n",
        "\n",
        "print(\"\\nConfusion Matrix:\")\n",
        "print(confusion_matrix(y_test, y_pred))\n"
      ]
    }
  ]
}