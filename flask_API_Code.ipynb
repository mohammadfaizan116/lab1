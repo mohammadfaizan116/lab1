{
  "nbformat": 4,
  "nbformat_minor": 0,
  "metadata": {
    "colab": {
      "provenance": []
    },
    "kernelspec": {
      "name": "python3",
      "display_name": "Python 3"
    },
    "language_info": {
      "name": "python"
    }
  },
  "cells": [
    {
      "cell_type": "code",
      "execution_count": null,
      "metadata": {
        "colab": {
          "base_uri": "https://localhost:8080/"
        },
        "id": "ZtUwTCUng9_T",
        "outputId": "ff1f4ef9-7e0a-4414-966f-ac4d32b83d37"
      },
      "outputs": [
        {
          "output_type": "stream",
          "name": "stdout",
          "text": [
            " * Serving Flask app '__main__'\n",
            " * Debug mode: on\n"
          ]
        },
        {
          "output_type": "stream",
          "name": "stderr",
          "text": [
            "INFO:werkzeug:\u001b[31m\u001b[1mWARNING: This is a development server. Do not use it in a production deployment. Use a production WSGI server instead.\u001b[0m\n",
            " * Running on http://127.0.0.1:5000\n",
            "INFO:werkzeug:\u001b[33mPress CTRL+C to quit\u001b[0m\n",
            "INFO:werkzeug: * Restarting with stat\n"
          ]
        }
      ],
      "source": [
        "from flask import Flask, render_template, request, jsonify\n",
        "import pandas as pd\n",
        "import joblib\n",
        "\n",
        "app = Flask(__name__)\n",
        "\n",
        "# Load the model\n",
        "model = joblib.load('model.pkl')\n",
        "\n",
        "@app.route('/')\n",
        "def index():\n",
        "    return render_template('index.html')\n",
        "\n",
        "@app.route('/predict', methods=['POST'])\n",
        "def predict():\n",
        "    # Get input values from the form\n",
        "    species = request.form['species']\n",
        "    length1 = float(request.form['length1'])\n",
        "    length2 = float(request.form['length2'])\n",
        "    length3 = float(request.form['length3'])\n",
        "    height = float(request.form['height'])\n",
        "    width = float(request.form['width'])\n",
        "\n",
        "    # Create a DataFrame with the input values\n",
        "    input_data = pd.DataFrame([[species, length1, length2, length3, height, width]],\n",
        "                              columns=['Species', 'Length1', 'Length2', 'Length3', 'Height', 'Width'])\n",
        "\n",
        "    # Predict the weight using the model\n",
        "    weight = model.predict(input_data)[0]\n",
        "\n",
        "    # Return the prediction as JSON\n",
        "    return jsonify({'weight': weight})\n",
        "\n",
        "if __name__ == '__main__':\n",
        "    app.run(debug=True)\n"
      ]
    }
  ]
}