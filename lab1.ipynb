{
  "nbformat": 4,
  "nbformat_minor": 0,
  "metadata": {
    "colab": {
      "provenance": []
    },
    "kernelspec": {
      "name": "python3",
      "display_name": "Python 3"
    },
    "language_info": {
      "name": "python"
    }
  },
  "cells": [
    {
      "cell_type": "code",
      "execution_count": 2,
      "metadata": {
        "colab": {
          "base_uri": "https://localhost:8080/"
        },
        "id": "ZzlfC4Hbv09U",
        "outputId": "fc0aa4a0-25af-4da5-aa51-6e81116cf88b"
      },
      "outputs": [
        {
          "output_type": "stream",
          "name": "stdout",
          "text": [
            "14\n"
          ]
        }
      ],
      "source": [
        "# create variable number1 with value 9\n",
        "number1 = 9\n",
        "\n",
        "# create variable number2 with value 5\n",
        "number2 = 5\n",
        "\n",
        "# add number1 and number2\n",
        "result = number1 + number2\n",
        "\n",
        "# print result\n",
        "print(result)"
      ]
    }
  ]
}